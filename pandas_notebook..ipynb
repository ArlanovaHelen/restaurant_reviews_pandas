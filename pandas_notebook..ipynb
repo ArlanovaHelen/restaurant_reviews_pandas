{
 "cells": [
  {
   "cell_type": "code",
   "execution_count": 183,
   "id": "initial_id",
   "metadata": {
    "collapsed": true,
    "ExecuteTime": {
     "end_time": "2024-03-02T20:24:24.129381Z",
     "start_time": "2024-03-02T20:24:24.081093Z"
    }
   },
   "outputs": [],
   "source": [
    "import pandas as pd\n",
    "\n",
    "df = pd.read_csv('reviews.csv', encoding='utf-8')"
   ]
  },
  {
   "cell_type": "code",
   "outputs": [
    {
     "data": {
      "text/plain": "  id restaurant_name           review_name  \\\n0  0             KFC  Подвірʼя даль ручка.   \n1  1          Marine     Основа виражений.   \n2  2            Rich      Ставити загроза.   \n3  3      Chelentano   Пропадати століття.   \n4  4         Familia     Покидати рішення.   \n5  5      True Price      Хліб здригатися.   \n6  6          Marine  Дрібниця нестерпний.   \n7  7      True Price   Вибирати постійний.   \n8  8         Familia   Яскраво відповісти.   \n9  9            Rich      Засунути й щось.   \n\n                                         review_text  rating date_of_visit  \\\n0  Терапія ламати ідея ґазда казна-хто зрозумілий...     5.0    2023-05-01   \n1  Написати перед оборот торгівля хлопець. Роса н...     5.0    2023-10-01   \n2  Присвятити означати купа затримати. Холодно пр...     3.0    2022-09-16   \n3  Штаб заклад мета подвірʼя. Щур бригада кпсс пр...     3.0    2022-05-16   \n4  Крутий розстебнути інший трубка бак. Низький п...     3.0    2023-03-15   \n5  Падати спалити кордон дошлий солома відповідні...     1.0    2023-09-04   \n6  Інший спорт грати. Залучати виражений рота вій...     1.0    2023-08-19   \n7  Прошепотіти подробиця пристрій легко юний інва...     4.0    2023-08-01   \n8  Хліб зелений угодний пісенька. Господь фахівец...     4.0    2024-01-04   \n9  Основа близько черговий місце хата ягода прист...     2.0    2023-12-14   \n\n    location  \n0    Моспине  \n1     Ірпінь  \n2   Заставна  \n3   Надвірна  \n4    Лебедин  \n5  Костопіль  \n6  Васильків  \n7   Кремінна  \n8     Глухів  \n9       Белз  ",
      "text/html": "<div>\n<style scoped>\n    .dataframe tbody tr th:only-of-type {\n        vertical-align: middle;\n    }\n\n    .dataframe tbody tr th {\n        vertical-align: top;\n    }\n\n    .dataframe thead th {\n        text-align: right;\n    }\n</style>\n<table border=\"1\" class=\"dataframe\">\n  <thead>\n    <tr style=\"text-align: right;\">\n      <th></th>\n      <th>id</th>\n      <th>restaurant_name</th>\n      <th>review_name</th>\n      <th>review_text</th>\n      <th>rating</th>\n      <th>date_of_visit</th>\n      <th>location</th>\n    </tr>\n  </thead>\n  <tbody>\n    <tr>\n      <th>0</th>\n      <td>0</td>\n      <td>KFC</td>\n      <td>Подвірʼя даль ручка.</td>\n      <td>Терапія ламати ідея ґазда казна-хто зрозумілий...</td>\n      <td>5.0</td>\n      <td>2023-05-01</td>\n      <td>Моспине</td>\n    </tr>\n    <tr>\n      <th>1</th>\n      <td>1</td>\n      <td>Marine</td>\n      <td>Основа виражений.</td>\n      <td>Написати перед оборот торгівля хлопець. Роса н...</td>\n      <td>5.0</td>\n      <td>2023-10-01</td>\n      <td>Ірпінь</td>\n    </tr>\n    <tr>\n      <th>2</th>\n      <td>2</td>\n      <td>Rich</td>\n      <td>Ставити загроза.</td>\n      <td>Присвятити означати купа затримати. Холодно пр...</td>\n      <td>3.0</td>\n      <td>2022-09-16</td>\n      <td>Заставна</td>\n    </tr>\n    <tr>\n      <th>3</th>\n      <td>3</td>\n      <td>Chelentano</td>\n      <td>Пропадати століття.</td>\n      <td>Штаб заклад мета подвірʼя. Щур бригада кпсс пр...</td>\n      <td>3.0</td>\n      <td>2022-05-16</td>\n      <td>Надвірна</td>\n    </tr>\n    <tr>\n      <th>4</th>\n      <td>4</td>\n      <td>Familia</td>\n      <td>Покидати рішення.</td>\n      <td>Крутий розстебнути інший трубка бак. Низький п...</td>\n      <td>3.0</td>\n      <td>2023-03-15</td>\n      <td>Лебедин</td>\n    </tr>\n    <tr>\n      <th>5</th>\n      <td>5</td>\n      <td>True Price</td>\n      <td>Хліб здригатися.</td>\n      <td>Падати спалити кордон дошлий солома відповідні...</td>\n      <td>1.0</td>\n      <td>2023-09-04</td>\n      <td>Костопіль</td>\n    </tr>\n    <tr>\n      <th>6</th>\n      <td>6</td>\n      <td>Marine</td>\n      <td>Дрібниця нестерпний.</td>\n      <td>Інший спорт грати. Залучати виражений рота вій...</td>\n      <td>1.0</td>\n      <td>2023-08-19</td>\n      <td>Васильків</td>\n    </tr>\n    <tr>\n      <th>7</th>\n      <td>7</td>\n      <td>True Price</td>\n      <td>Вибирати постійний.</td>\n      <td>Прошепотіти подробиця пристрій легко юний інва...</td>\n      <td>4.0</td>\n      <td>2023-08-01</td>\n      <td>Кремінна</td>\n    </tr>\n    <tr>\n      <th>8</th>\n      <td>8</td>\n      <td>Familia</td>\n      <td>Яскраво відповісти.</td>\n      <td>Хліб зелений угодний пісенька. Господь фахівец...</td>\n      <td>4.0</td>\n      <td>2024-01-04</td>\n      <td>Глухів</td>\n    </tr>\n    <tr>\n      <th>9</th>\n      <td>9</td>\n      <td>Rich</td>\n      <td>Засунути й щось.</td>\n      <td>Основа близько черговий місце хата ягода прист...</td>\n      <td>2.0</td>\n      <td>2023-12-14</td>\n      <td>Белз</td>\n    </tr>\n  </tbody>\n</table>\n</div>"
     },
     "execution_count": 184,
     "metadata": {},
     "output_type": "execute_result"
    }
   ],
   "source": [
    "# Display the first 10 rows of the data frame\n",
    "df.head(10)"
   ],
   "metadata": {
    "collapsed": false,
    "ExecuteTime": {
     "end_time": "2024-03-02T20:24:25.999740Z",
     "start_time": "2024-03-02T20:24:25.946665Z"
    }
   },
   "id": "6fa256bd5fcf0431",
   "execution_count": 184
  },
  {
   "cell_type": "code",
   "outputs": [],
   "source": [
    "df.set_index('id', inplace=True)"
   ],
   "metadata": {
    "collapsed": false,
    "ExecuteTime": {
     "end_time": "2024-03-02T20:19:29.245754Z",
     "start_time": "2024-03-02T20:19:29.222744Z"
    }
   },
   "id": "f437045cea992446",
   "execution_count": 168
  },
  {
   "cell_type": "code",
   "outputs": [
    {
     "data": {
      "text/plain": "   restaurant_name           review_name  \\\nid                                         \n0              KFC  Подвірʼя даль ручка.   \n1           Marine     Основа виражений.   \n2             Rich      Ставити загроза.   \n3       Chelentano   Пропадати століття.   \n4          Familia     Покидати рішення.   \n5       True Price      Хліб здригатися.   \n6           Marine  Дрібниця нестерпний.   \n7       True Price   Вибирати постійний.   \n8          Familia   Яскраво відповісти.   \n9             Rich      Засунути й щось.   \n\n                                          review_text  rating date_of_visit  \\\nid                                                                            \n0   Терапія ламати ідея ґазда казна-хто зрозумілий...     5.0    2023-05-01   \n1   Написати перед оборот торгівля хлопець. Роса н...     5.0    2023-10-01   \n2   Присвятити означати купа затримати. Холодно пр...     3.0    2022-09-16   \n3   Штаб заклад мета подвірʼя. Щур бригада кпсс пр...     3.0    2022-05-16   \n4   Крутий розстебнути інший трубка бак. Низький п...     3.0    2023-03-15   \n5   Падати спалити кордон дошлий солома відповідні...     1.0    2023-09-04   \n6   Інший спорт грати. Залучати виражений рота вій...     1.0    2023-08-19   \n7   Прошепотіти подробиця пристрій легко юний інва...     4.0    2023-08-01   \n8   Хліб зелений угодний пісенька. Господь фахівец...     4.0    2024-01-04   \n9   Основа близько черговий місце хата ягода прист...     2.0    2023-12-14   \n\n     location  \nid             \n0     Моспине  \n1      Ірпінь  \n2    Заставна  \n3    Надвірна  \n4     Лебедин  \n5   Костопіль  \n6   Васильків  \n7    Кремінна  \n8      Глухів  \n9        Белз  ",
      "text/html": "<div>\n<style scoped>\n    .dataframe tbody tr th:only-of-type {\n        vertical-align: middle;\n    }\n\n    .dataframe tbody tr th {\n        vertical-align: top;\n    }\n\n    .dataframe thead th {\n        text-align: right;\n    }\n</style>\n<table border=\"1\" class=\"dataframe\">\n  <thead>\n    <tr style=\"text-align: right;\">\n      <th></th>\n      <th>restaurant_name</th>\n      <th>review_name</th>\n      <th>review_text</th>\n      <th>rating</th>\n      <th>date_of_visit</th>\n      <th>location</th>\n    </tr>\n    <tr>\n      <th>id</th>\n      <th></th>\n      <th></th>\n      <th></th>\n      <th></th>\n      <th></th>\n      <th></th>\n    </tr>\n  </thead>\n  <tbody>\n    <tr>\n      <th>0</th>\n      <td>KFC</td>\n      <td>Подвірʼя даль ручка.</td>\n      <td>Терапія ламати ідея ґазда казна-хто зрозумілий...</td>\n      <td>5.0</td>\n      <td>2023-05-01</td>\n      <td>Моспине</td>\n    </tr>\n    <tr>\n      <th>1</th>\n      <td>Marine</td>\n      <td>Основа виражений.</td>\n      <td>Написати перед оборот торгівля хлопець. Роса н...</td>\n      <td>5.0</td>\n      <td>2023-10-01</td>\n      <td>Ірпінь</td>\n    </tr>\n    <tr>\n      <th>2</th>\n      <td>Rich</td>\n      <td>Ставити загроза.</td>\n      <td>Присвятити означати купа затримати. Холодно пр...</td>\n      <td>3.0</td>\n      <td>2022-09-16</td>\n      <td>Заставна</td>\n    </tr>\n    <tr>\n      <th>3</th>\n      <td>Chelentano</td>\n      <td>Пропадати століття.</td>\n      <td>Штаб заклад мета подвірʼя. Щур бригада кпсс пр...</td>\n      <td>3.0</td>\n      <td>2022-05-16</td>\n      <td>Надвірна</td>\n    </tr>\n    <tr>\n      <th>4</th>\n      <td>Familia</td>\n      <td>Покидати рішення.</td>\n      <td>Крутий розстебнути інший трубка бак. Низький п...</td>\n      <td>3.0</td>\n      <td>2023-03-15</td>\n      <td>Лебедин</td>\n    </tr>\n    <tr>\n      <th>5</th>\n      <td>True Price</td>\n      <td>Хліб здригатися.</td>\n      <td>Падати спалити кордон дошлий солома відповідні...</td>\n      <td>1.0</td>\n      <td>2023-09-04</td>\n      <td>Костопіль</td>\n    </tr>\n    <tr>\n      <th>6</th>\n      <td>Marine</td>\n      <td>Дрібниця нестерпний.</td>\n      <td>Інший спорт грати. Залучати виражений рота вій...</td>\n      <td>1.0</td>\n      <td>2023-08-19</td>\n      <td>Васильків</td>\n    </tr>\n    <tr>\n      <th>7</th>\n      <td>True Price</td>\n      <td>Вибирати постійний.</td>\n      <td>Прошепотіти подробиця пристрій легко юний інва...</td>\n      <td>4.0</td>\n      <td>2023-08-01</td>\n      <td>Кремінна</td>\n    </tr>\n    <tr>\n      <th>8</th>\n      <td>Familia</td>\n      <td>Яскраво відповісти.</td>\n      <td>Хліб зелений угодний пісенька. Господь фахівец...</td>\n      <td>4.0</td>\n      <td>2024-01-04</td>\n      <td>Глухів</td>\n    </tr>\n    <tr>\n      <th>9</th>\n      <td>Rich</td>\n      <td>Засунути й щось.</td>\n      <td>Основа близько черговий місце хата ягода прист...</td>\n      <td>2.0</td>\n      <td>2023-12-14</td>\n      <td>Белз</td>\n    </tr>\n  </tbody>\n</table>\n</div>"
     },
     "execution_count": 169,
     "metadata": {},
     "output_type": "execute_result"
    }
   ],
   "source": [
    "df.head(10)"
   ],
   "metadata": {
    "collapsed": false,
    "ExecuteTime": {
     "end_time": "2024-03-02T20:19:30.938816Z",
     "start_time": "2024-03-02T20:19:30.901496Z"
    }
   },
   "id": "3bbcfb721313552d",
   "execution_count": 169
  },
  {
   "cell_type": "code",
   "outputs": [],
   "source": [
    "#Check for any missing values and handle them appropriately\n",
    "df.dropna(subset=['rating', 'restaurant_name', 'review_name', 'review_text', 'date_of_visit','location'], inplace=True)"
   ],
   "metadata": {
    "collapsed": false,
    "ExecuteTime": {
     "end_time": "2024-03-02T20:19:32.820503Z",
     "start_time": "2024-03-02T20:19:32.798529Z"
    }
   },
   "id": "15ea59b1e752dedb",
   "execution_count": 170
  },
  {
   "cell_type": "code",
   "outputs": [],
   "source": [
    "#Ensure all ratings are within the 1 to 5 range.\n",
    "filter1 = df[\"rating\"] >= 1\n",
    "filter2 = df[\"rating\"] <= 5\n",
    "df.where(filter1 & filter2, inplace=True)"
   ],
   "metadata": {
    "collapsed": false,
    "ExecuteTime": {
     "end_time": "2024-03-02T20:19:42.631791Z",
     "start_time": "2024-03-02T20:19:42.590923Z"
    }
   },
   "id": "b2e0348264db14f4",
   "execution_count": 171
  },
  {
   "cell_type": "code",
   "outputs": [
    {
     "data": {
      "text/plain": "2.9173553719008263"
     },
     "execution_count": 172,
     "metadata": {},
     "output_type": "execute_result"
    }
   ],
   "source": [
    "#Summary statistic of the numeral columns\n",
    "df['rating'].mean()\n"
   ],
   "metadata": {
    "collapsed": false,
    "ExecuteTime": {
     "end_time": "2024-03-02T20:19:45.061661Z",
     "start_time": "2024-03-02T20:19:45.039307Z"
    }
   },
   "id": "756269b5468dc3a3",
   "execution_count": 172
  },
  {
   "cell_type": "code",
   "outputs": [
    {
     "data": {
      "text/plain": "1412.0"
     },
     "execution_count": 173,
     "metadata": {},
     "output_type": "execute_result"
    }
   ],
   "source": [
    "df['rating'].sum()"
   ],
   "metadata": {
    "collapsed": false,
    "ExecuteTime": {
     "end_time": "2024-03-02T20:20:27.211149Z",
     "start_time": "2024-03-02T20:20:27.175333Z"
    }
   },
   "id": "9f675bf5d335bd04",
   "execution_count": 173
  },
  {
   "cell_type": "code",
   "outputs": [
    {
     "data": {
      "text/plain": "           rating\ncount  484.000000\nmean     2.917355\nstd      1.442259\nmin      1.000000\n25%      2.000000\n50%      3.000000\n75%      4.000000\nmax      5.000000",
      "text/html": "<div>\n<style scoped>\n    .dataframe tbody tr th:only-of-type {\n        vertical-align: middle;\n    }\n\n    .dataframe tbody tr th {\n        vertical-align: top;\n    }\n\n    .dataframe thead th {\n        text-align: right;\n    }\n</style>\n<table border=\"1\" class=\"dataframe\">\n  <thead>\n    <tr style=\"text-align: right;\">\n      <th></th>\n      <th>rating</th>\n    </tr>\n  </thead>\n  <tbody>\n    <tr>\n      <th>count</th>\n      <td>484.000000</td>\n    </tr>\n    <tr>\n      <th>mean</th>\n      <td>2.917355</td>\n    </tr>\n    <tr>\n      <th>std</th>\n      <td>1.442259</td>\n    </tr>\n    <tr>\n      <th>min</th>\n      <td>1.000000</td>\n    </tr>\n    <tr>\n      <th>25%</th>\n      <td>2.000000</td>\n    </tr>\n    <tr>\n      <th>50%</th>\n      <td>3.000000</td>\n    </tr>\n    <tr>\n      <th>75%</th>\n      <td>4.000000</td>\n    </tr>\n    <tr>\n      <th>max</th>\n      <td>5.000000</td>\n    </tr>\n  </tbody>\n</table>\n</div>"
     },
     "execution_count": 174,
     "metadata": {},
     "output_type": "execute_result"
    }
   ],
   "source": [
    "df.describe()"
   ],
   "metadata": {
    "collapsed": false,
    "ExecuteTime": {
     "end_time": "2024-03-02T20:20:29.051609Z",
     "start_time": "2024-03-02T20:20:29.001007Z"
    }
   },
   "id": "249076c8894d617e",
   "execution_count": 174
  },
  {
   "cell_type": "code",
   "outputs": [],
   "source": [
    "#Create a new column \"Review Length\" that represents the number of words in the review text.\n",
    "df['review_length'] = df['review_text'].str.count(' ') + 1"
   ],
   "metadata": {
    "collapsed": false,
    "ExecuteTime": {
     "end_time": "2024-03-02T20:20:31.461157Z",
     "start_time": "2024-03-02T20:20:31.437458Z"
    }
   },
   "id": "dcec63e2aaba7dc7",
   "execution_count": 175
  },
  {
   "cell_type": "code",
   "outputs": [
    {
     "data": {
      "text/plain": "   restaurant_name           review_name  \\\nid                                         \n0              KFC  Подвірʼя даль ручка.   \n1           Marine     Основа виражений.   \n2             Rich      Ставити загроза.   \n3       Chelentano   Пропадати століття.   \n4          Familia     Покидати рішення.   \n5       True Price      Хліб здригатися.   \n6           Marine  Дрібниця нестерпний.   \n7       True Price   Вибирати постійний.   \n8          Familia   Яскраво відповісти.   \n9             Rich      Засунути й щось.   \n\n                                          review_text  rating date_of_visit  \\\nid                                                                            \n0   Терапія ламати ідея ґазда казна-хто зрозумілий...     5.0    2023-05-01   \n1   Написати перед оборот торгівля хлопець. Роса н...     5.0    2023-10-01   \n2   Присвятити означати купа затримати. Холодно пр...     3.0    2022-09-16   \n3   Штаб заклад мета подвірʼя. Щур бригада кпсс пр...     3.0    2022-05-16   \n4   Крутий розстебнути інший трубка бак. Низький п...     3.0    2023-03-15   \n5   Падати спалити кордон дошлий солома відповідні...     1.0    2023-09-04   \n6   Інший спорт грати. Залучати виражений рота вій...     1.0    2023-08-19   \n7   Прошепотіти подробиця пристрій легко юний інва...     4.0    2023-08-01   \n8   Хліб зелений угодний пісенька. Господь фахівец...     4.0    2024-01-04   \n9   Основа близько черговий місце хата ягода прист...     2.0    2023-12-14   \n\n     location  review_length  \nid                            \n0     Моспине              9  \n1      Ірпінь             12  \n2    Заставна              8  \n3    Надвірна             15  \n4     Лебедин              8  \n5   Костопіль             12  \n6   Васильків             12  \n7    Кремінна              7  \n8      Глухів              7  \n9        Белз              7  ",
      "text/html": "<div>\n<style scoped>\n    .dataframe tbody tr th:only-of-type {\n        vertical-align: middle;\n    }\n\n    .dataframe tbody tr th {\n        vertical-align: top;\n    }\n\n    .dataframe thead th {\n        text-align: right;\n    }\n</style>\n<table border=\"1\" class=\"dataframe\">\n  <thead>\n    <tr style=\"text-align: right;\">\n      <th></th>\n      <th>restaurant_name</th>\n      <th>review_name</th>\n      <th>review_text</th>\n      <th>rating</th>\n      <th>date_of_visit</th>\n      <th>location</th>\n      <th>review_length</th>\n    </tr>\n    <tr>\n      <th>id</th>\n      <th></th>\n      <th></th>\n      <th></th>\n      <th></th>\n      <th></th>\n      <th></th>\n      <th></th>\n    </tr>\n  </thead>\n  <tbody>\n    <tr>\n      <th>0</th>\n      <td>KFC</td>\n      <td>Подвірʼя даль ручка.</td>\n      <td>Терапія ламати ідея ґазда казна-хто зрозумілий...</td>\n      <td>5.0</td>\n      <td>2023-05-01</td>\n      <td>Моспине</td>\n      <td>9</td>\n    </tr>\n    <tr>\n      <th>1</th>\n      <td>Marine</td>\n      <td>Основа виражений.</td>\n      <td>Написати перед оборот торгівля хлопець. Роса н...</td>\n      <td>5.0</td>\n      <td>2023-10-01</td>\n      <td>Ірпінь</td>\n      <td>12</td>\n    </tr>\n    <tr>\n      <th>2</th>\n      <td>Rich</td>\n      <td>Ставити загроза.</td>\n      <td>Присвятити означати купа затримати. Холодно пр...</td>\n      <td>3.0</td>\n      <td>2022-09-16</td>\n      <td>Заставна</td>\n      <td>8</td>\n    </tr>\n    <tr>\n      <th>3</th>\n      <td>Chelentano</td>\n      <td>Пропадати століття.</td>\n      <td>Штаб заклад мета подвірʼя. Щур бригада кпсс пр...</td>\n      <td>3.0</td>\n      <td>2022-05-16</td>\n      <td>Надвірна</td>\n      <td>15</td>\n    </tr>\n    <tr>\n      <th>4</th>\n      <td>Familia</td>\n      <td>Покидати рішення.</td>\n      <td>Крутий розстебнути інший трубка бак. Низький п...</td>\n      <td>3.0</td>\n      <td>2023-03-15</td>\n      <td>Лебедин</td>\n      <td>8</td>\n    </tr>\n    <tr>\n      <th>5</th>\n      <td>True Price</td>\n      <td>Хліб здригатися.</td>\n      <td>Падати спалити кордон дошлий солома відповідні...</td>\n      <td>1.0</td>\n      <td>2023-09-04</td>\n      <td>Костопіль</td>\n      <td>12</td>\n    </tr>\n    <tr>\n      <th>6</th>\n      <td>Marine</td>\n      <td>Дрібниця нестерпний.</td>\n      <td>Інший спорт грати. Залучати виражений рота вій...</td>\n      <td>1.0</td>\n      <td>2023-08-19</td>\n      <td>Васильків</td>\n      <td>12</td>\n    </tr>\n    <tr>\n      <th>7</th>\n      <td>True Price</td>\n      <td>Вибирати постійний.</td>\n      <td>Прошепотіти подробиця пристрій легко юний інва...</td>\n      <td>4.0</td>\n      <td>2023-08-01</td>\n      <td>Кремінна</td>\n      <td>7</td>\n    </tr>\n    <tr>\n      <th>8</th>\n      <td>Familia</td>\n      <td>Яскраво відповісти.</td>\n      <td>Хліб зелений угодний пісенька. Господь фахівец...</td>\n      <td>4.0</td>\n      <td>2024-01-04</td>\n      <td>Глухів</td>\n      <td>7</td>\n    </tr>\n    <tr>\n      <th>9</th>\n      <td>Rich</td>\n      <td>Засунути й щось.</td>\n      <td>Основа близько черговий місце хата ягода прист...</td>\n      <td>2.0</td>\n      <td>2023-12-14</td>\n      <td>Белз</td>\n      <td>7</td>\n    </tr>\n  </tbody>\n</table>\n</div>"
     },
     "execution_count": 176,
     "metadata": {},
     "output_type": "execute_result"
    }
   ],
   "source": [
    "df.head(10)"
   ],
   "metadata": {
    "collapsed": false,
    "ExecuteTime": {
     "end_time": "2024-03-02T20:20:38.108425Z",
     "start_time": "2024-03-02T20:20:38.055188Z"
    }
   },
   "id": "cd7e5a2149568fa",
   "execution_count": 176
  },
  {
   "cell_type": "code",
   "outputs": [
    {
     "data": {
      "text/plain": "restaurant_name\nPancake         3.382353\nMcDonald`s      3.333333\nFabric`s        3.129032\nBulvar          3.108696\nTrue Price      3.027778\nNew Province    3.025641\nRich            2.920000\nMarine          2.864865\nParis           2.774194\nKFC             2.697674\nName: rating, dtype: float64"
     },
     "execution_count": 177,
     "metadata": {},
     "output_type": "execute_result"
    }
   ],
   "source": [
    "#Data Analysis Tasks (20 minutes)\n",
    "#Find the average rating for each restaurant and display the top 10 highest-rated restaurants.\n",
    "df.groupby('restaurant_name')['rating'].mean().sort_values(ascending=False).head(10)"
   ],
   "metadata": {
    "collapsed": false,
    "ExecuteTime": {
     "end_time": "2024-03-02T20:20:47.928199Z",
     "start_time": "2024-03-02T20:20:47.888457Z"
    }
   },
   "id": "a21ff2b35de40578",
   "execution_count": 177
  },
  {
   "cell_type": "code",
   "outputs": [
    {
     "data": {
      "text/plain": "                  average_rating  review_count\nreview_name                                   \nВисловлюватися.         1.333333             3\nІнтелектуальний.        2.500000             2\nЗвільнення.             4.000000             2\nВідзначити.             4.500000             2\nРозгубитися.            2.500000             2",
      "text/html": "<div>\n<style scoped>\n    .dataframe tbody tr th:only-of-type {\n        vertical-align: middle;\n    }\n\n    .dataframe tbody tr th {\n        vertical-align: top;\n    }\n\n    .dataframe thead th {\n        text-align: right;\n    }\n</style>\n<table border=\"1\" class=\"dataframe\">\n  <thead>\n    <tr style=\"text-align: right;\">\n      <th></th>\n      <th>average_rating</th>\n      <th>review_count</th>\n    </tr>\n    <tr>\n      <th>review_name</th>\n      <th></th>\n      <th></th>\n    </tr>\n  </thead>\n  <tbody>\n    <tr>\n      <th>Висловлюватися.</th>\n      <td>1.333333</td>\n      <td>3</td>\n    </tr>\n    <tr>\n      <th>Інтелектуальний.</th>\n      <td>2.500000</td>\n      <td>2</td>\n    </tr>\n    <tr>\n      <th>Звільнення.</th>\n      <td>4.000000</td>\n      <td>2</td>\n    </tr>\n    <tr>\n      <th>Відзначити.</th>\n      <td>4.500000</td>\n      <td>2</td>\n    </tr>\n    <tr>\n      <th>Розгубитися.</th>\n      <td>2.500000</td>\n      <td>2</td>\n    </tr>\n  </tbody>\n</table>\n</div>"
     },
     "execution_count": 178,
     "metadata": {},
     "output_type": "execute_result"
    }
   ],
   "source": [
    "#Identify the 5 most frequent reviewers and the average rating they give.\n",
    "reviewer_stats = df.groupby('review_name').agg({\n",
    "  'rating': ['mean', 'count']})\n",
    "reviewer_stats.columns = ['average_rating', 'review_count']\n",
    "reviewer_stats = reviewer_stats.sort_values(by='review_count', ascending=False)\n",
    "reviewer_stats.head(5)"
   ],
   "metadata": {
    "collapsed": false,
    "ExecuteTime": {
     "end_time": "2024-03-02T20:20:53.421520Z",
     "start_time": "2024-03-02T20:20:53.356326Z"
    }
   },
   "id": "38d4232c7ebc41af",
   "execution_count": 178
  },
  {
   "cell_type": "code",
   "outputs": [
    {
     "data": {
      "text/plain": "date_of_visit\n2022-03    3.500000\n2022-04    2.500000\n2022-05    2.869565\n2022-06    3.000000\n2022-07    2.600000\n2022-08    3.037037\n2022-09    3.074074\n2022-10    2.680000\n2022-11    2.687500\n2022-12    2.444444\n2023-01    3.250000\n2023-02    3.333333\n2023-03    2.727273\n2023-04    2.470588\n2023-05    2.869565\n2023-06    2.619048\n2023-07    3.047619\n2023-08    3.272727\n2023-09    3.105263\n2023-10    3.307692\n2023-11    3.363636\n2023-12    2.650000\n2024-01    2.600000\n2024-02    3.269231\n2024-03    5.000000\nFreq: M, Name: rating, dtype: float64"
     },
     "execution_count": 179,
     "metadata": {},
     "output_type": "execute_result"
    }
   ],
   "source": [
    "#Calculate the average rating per month to see if there is a trend over time.\n",
    "df.groupby(pd.PeriodIndex(df['date_of_visit'], freq=\"M\"))['rating'].mean()"
   ],
   "metadata": {
    "collapsed": false,
    "ExecuteTime": {
     "end_time": "2024-03-02T20:20:57.949450Z",
     "start_time": "2024-03-02T20:20:57.877814Z"
    }
   },
   "id": "515ba2ab22bac3f9",
   "execution_count": 179
  },
  {
   "cell_type": "code",
   "outputs": [
    {
     "data": {
      "text/plain": "'Parla'"
     },
     "execution_count": 180,
     "metadata": {},
     "output_type": "execute_result"
    }
   ],
   "source": [
    "#Find the restaurant with the most reviews.\n",
    "df['restaurant_name'].value_counts().idxmax()"
   ],
   "metadata": {
    "collapsed": false,
    "ExecuteTime": {
     "end_time": "2024-03-02T20:21:06.934931Z",
     "start_time": "2024-03-02T20:21:06.895220Z"
    }
   },
   "id": "892b41b6b69313c3",
   "execution_count": 180
  },
  {
   "cell_type": "code",
   "outputs": [
    {
     "data": {
      "text/plain": "location    Ясинувата\nrating            5.0\ndtype: object"
     },
     "execution_count": 181,
     "metadata": {},
     "output_type": "execute_result"
    }
   ],
   "source": [
    "#Determine the city with the highest average rating.\n",
    "\n",
    "df.groupby([\"location\"]).agg({\n",
    "  \"rating\": \"mean\",\n",
    "}).reset_index().max()"
   ],
   "metadata": {
    "collapsed": false,
    "ExecuteTime": {
     "end_time": "2024-03-02T20:21:14.204051Z",
     "start_time": "2024-03-02T20:21:14.159932Z"
    }
   },
   "id": "369d360edd37ab02",
   "execution_count": 181
  },
  {
   "cell_type": "code",
   "outputs": [],
   "source": [],
   "metadata": {
    "collapsed": false,
    "ExecuteTime": {
     "end_time": "2024-03-02T20:21:17.630103Z",
     "start_time": "2024-03-02T20:21:17.617410Z"
    }
   },
   "id": "f7994e379c85cc26",
   "execution_count": 181
  },
  {
   "cell_type": "code",
   "outputs": [],
   "source": [],
   "metadata": {
    "collapsed": false
   },
   "id": "5fb497d18528ccff"
  }
 ],
 "metadata": {
  "kernelspec": {
   "display_name": "Python 3",
   "language": "python",
   "name": "python3"
  },
  "language_info": {
   "codemirror_mode": {
    "name": "ipython",
    "version": 2
   },
   "file_extension": ".py",
   "mimetype": "text/x-python",
   "name": "python",
   "nbconvert_exporter": "python",
   "pygments_lexer": "ipython2",
   "version": "2.7.6"
  }
 },
 "nbformat": 4,
 "nbformat_minor": 5
}
